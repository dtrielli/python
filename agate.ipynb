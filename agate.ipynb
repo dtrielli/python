{
 "cells": [
  {
   "cell_type": "code",
   "execution_count": 1,
   "metadata": {
    "collapsed": false
   },
   "outputs": [
    {
     "name": "stdout",
     "output_type": "stream",
     "text": [
      "|------------------+---------------|\n",
      "|  column_names    | column_types  |\n",
      "|------------------+---------------|\n",
      "|  updated_at      | Date          |\n",
      "|  id              | Date          |\n",
      "|  start_date      | Date          |\n",
      "|  end_date        | Date          |\n",
      "|  election_type   | Text          |\n",
      "|  result_type     | Text          |\n",
      "|  special         | Boolean       |\n",
      "|  office          | Text          |\n",
      "|  district        | Date          |\n",
      "|  name_raw        | Text          |\n",
      "|  last_name       | Boolean       |\n",
      "|  first_name      | Boolean       |\n",
      "|  suffix          | Boolean       |\n",
      "|  middle_name     | Boolean       |\n",
      "|  party           | Text          |\n",
      "|  jurisdiction    | Text          |\n",
      "|  division        | Text          |\n",
      "|  votes           | Number        |\n",
      "|  votes_type      | Boolean       |\n",
      "|  total_votes     | Boolean       |\n",
      "|  winner          | Boolean       |\n",
      "|  write_in        | Boolean       |\n",
      "|  year            | Number        |\n",
      "|  election_day    | Number        |\n",
      "|  absentee        | Number        |\n",
      "|  second_absentee | Number        |\n",
      "|  provisional     | Number        |\n",
      "|------------------+---------------|\n",
      "\n"
     ]
    }
   ],
   "source": [
    "import agate\n",
    "results = agate.Table.from_csv(\"mdcounty2014.csv\")\n",
    "print(results)"
   ]
  },
  {
   "cell_type": "code",
   "execution_count": 2,
   "metadata": {
    "collapsed": true
   },
   "outputs": [],
   "source": [
    "row = results.rows[0]"
   ]
  },
  {
   "cell_type": "code",
   "execution_count": 3,
   "metadata": {
    "collapsed": false
   },
   "outputs": [
    {
     "data": {
      "text/plain": [
       "u'Allegany'"
      ]
     },
     "execution_count": 3,
     "metadata": {},
     "output_type": "execute_result"
    }
   ],
   "source": [
    "row['jurisdiction']"
   ]
  },
  {
   "cell_type": "code",
   "execution_count": 4,
   "metadata": {
    "collapsed": false
   },
   "outputs": [
    {
     "name": "stdout",
     "output_type": "stream",
     "text": [
      "jurisdiction    county_total\n",
      "Montgomery         1,954,822 ▓░░░░░░░░░░░░░░░░░░░░░░░░░░░░░░░░░░░░░░░░░░░░░░░░░ \n",
      "Baltimore          1,851,809 ▓░░░░░░░░░░░░░░░░░░░░░░░░░░░░░░░░░░░░░░░░░░░░░░    \n",
      "Prince George's    1,501,125 ▓░░░░░░░░░░░░░░░░░░░░░░░░░░░░░░░░░░░░░░            \n",
      "Anne Arundel       1,240,645 ▓░░░░░░░░░░░░░░░░░░░░░░░░░░░░░░░                   \n",
      "Baltimore City       979,608 ▓░░░░░░░░░░░░░░░░░░░░░░░░                          \n",
      "Howard               749,280 ▓░░░░░░░░░░░░░░░░░░░                               \n",
      "Harford              615,680 ▓░░░░░░░░░░░░░░░                                   \n",
      "Frederick            544,177 ▓░░░░░░░░░░░░░░                                    \n",
      "Carroll              466,467 ▓░░░░░░░░░░░░                                      \n",
      "Charles              328,887 ▓░░░░░░░░                                          \n",
      "                             +-----------+------------+------------------------+\n",
      "                             0        500,000     1,000,000            2,000,000\n"
     ]
    }
   ],
   "source": [
    "by_county = results.group_by('jurisdiction')\n",
    "totals = by_county.aggregate([('county_total', agate.Sum('votes'))])\n",
    "totals = totals.order_by('county_total', reverse=True)\n",
    "totals.limit(10).print_bars('jurisdiction', 'county_total', width=80)"
   ]
  },
  {
   "cell_type": "code",
   "execution_count": 5,
   "metadata": {
    "collapsed": false
   },
   "outputs": [
    {
     "name": "stdout",
     "output_type": "stream",
     "text": [
      "name_raw            candidate_total\n",
      "Peter Franchot            1,061,267 ▓░░░░░░░░░░░░░░░░░░░░░░░                    \n",
      "Brian E. Frosh              935,846 ▓░░░░░░░░░░░░░░░░░░░░                       \n",
      "Larry Hogan                 884,400 ▓░░░░░░░░░░░░░░░░░░░                        \n",
      "Anthony G. Brown            818,890 ▓░░░░░░░░░░░░░░░░░░                         \n",
      "Jeffrey N. Pritzker         682,265 ▓░░░░░░░░░░░░░░░                            \n",
      "William H. Campbell         630,109 ▓░░░░░░░░░░░░░░                             \n",
      "Andy Harris                 176,342 ▓░░░░                                       \n",
      "Steny H. Hoyer              144,725 ▓░░░                                        \n",
      "Elijah Cummings             144,639 ▓░░░                                        \n",
      "Chris Van Hollen            136,722 ▓░░░                                        \n",
      "                                    +----------+----------+--------------------+\n",
      "                                    0       500,000   1,000,000        2,000,000\n"
     ]
    }
   ],
   "source": [
    "by_candidate = results.group_by('name_raw')\n",
    "totals = by_candidate.aggregate([('candidate_total', agate.Sum('votes'))])\n",
    "totals = totals.order_by('candidate_total', reverse=True)\n",
    "totals.limit(10).print_bars('name_raw', 'candidate_total', width=80)"
   ]
  },
  {
   "cell_type": "code",
   "execution_count": null,
   "metadata": {
    "collapsed": true
   },
   "outputs": [],
   "source": []
  }
 ],
 "metadata": {
  "kernelspec": {
   "display_name": "Python 2",
   "language": "python",
   "name": "python2"
  },
  "language_info": {
   "codemirror_mode": {
    "name": "ipython",
    "version": 2
   },
   "file_extension": ".py",
   "mimetype": "text/x-python",
   "name": "python",
   "nbconvert_exporter": "python",
   "pygments_lexer": "ipython2",
   "version": "2.7.11"
  }
 },
 "nbformat": 4,
 "nbformat_minor": 0
}
